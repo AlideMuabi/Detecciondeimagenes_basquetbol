{
 "cells": [
  {
   "cell_type": "markdown",
   "id": "78763f56",
   "metadata": {},
   "source": [
    "# Instalación de tf_DML y torch_DML\n",
    "\n",
    "https://github.com/muyeed15/DirectML-TensorFlow-PyTorch-Guide"
   ]
  },
  {
   "cell_type": "code",
   "execution_count": null,
   "id": "809e1e58",
   "metadata": {},
   "outputs": [],
   "source": [
    "#Ambiente virtual desde terminal\n",
    "conda create --name \"directml\" python==3.10.14\n",
    "conda activate \"directml\"\n",
    "\n",
    "pip install numpy==1.26.4\n",
    "\n",
    "pip install tensorflow-cpu==2.10.0\n",
    "pip install tensorflow-directml-plugin==0.4.0.dev230202\n",
    "\n",
    "pip install torch-directml==0.2.4.dev240815"
   ]
  }
 ],
 "metadata": {
  "kernelspec": {
   "display_name": "Python 3 (ipykernel)",
   "language": "python",
   "name": "python3"
  },
  "language_info": {
   "codemirror_mode": {
    "name": "ipython",
    "version": 3
   },
   "file_extension": ".py",
   "mimetype": "text/x-python",
   "name": "python",
   "nbconvert_exporter": "python",
   "pygments_lexer": "ipython3",
   "version": "3.12.3"
  }
 },
 "nbformat": 4,
 "nbformat_minor": 5
}
