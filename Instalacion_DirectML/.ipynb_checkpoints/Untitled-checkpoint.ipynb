{
 "cells": [
  {
   "cell_type": "code",
   "execution_count": null,
   "id": "bfad0569",
   "metadata": {},
   "outputs": [],
   "source": [
    "import torch\n",
    "\n",
    "if torch.backends.mps.is_available():  # For macOS Metal (less relevant to DirectML)\n",
    "    mps_device = torch.device(\"mps\")\n",
    "    x = torch.ones(5, device=mps_device)\n",
    "    print(\"MPS device is available and working:\", x)\n",
    "\n",
    "if torch.dml.is_available(): # For DirectML on Windows\n",
    "    dml_device = torch.device(\"dml\")\n",
    "    x = torch.ones(5, device=dml_device)\n",
    "    print(\"DirectML device is available and working:\", x)\n",
    "else:\n",
    "    print(\"DirectML device is NOT available.\")\n",
    "\n",
    "if torch.cuda.is_available(): # For NVIDIA CUDA (less relevant to DirectML)\n",
    "    cuda_device = torch.device(\"cuda\")\n",
    "    x = torch.ones(5, device=cuda_device)\n",
    "    print(\"CUDA device is available and working:\", x)\n",
    "else:\n",
    "    print(\"CUDA device is NOT available.\")\n",
    "\n",
    "device = torch.device(\"cuda\" if torch.cuda.is_available() else (\"mps\" if torch.backends.mps.is_available() else (\"dml\" if torch.dml.is_available() else \"cpu\")))\n",
    "print(f\"Using device: {device}\")"
   ]
  },
  {
   "cell_type": "code",
   "execution_count": null,
   "id": "bfbed543",
   "metadata": {},
   "outputs": [],
   "source": [
    "import torch_directml\n",
    "\n",
    "def select_device(device=''):\n",
    "    if device == 'dml':\n",
    "        return torch_directml.device()\n",
    "    else:\n",
    "        return torch.device(device)"
   ]
  },
  {
   "cell_type": "code",
   "execution_count": 2,
   "id": "206128df",
   "metadata": {},
   "outputs": [
    {
     "data": {
      "text/plain": [
       "device(type='privateuseone', index=0)"
      ]
     },
     "execution_count": 2,
     "metadata": {},
     "output_type": "execute_result"
    }
   ],
   "source": [
    "torch_directml.device()"
   ]
  },
  {
   "cell_type": "code",
   "execution_count": 1,
   "id": "c90897c9",
   "metadata": {},
   "outputs": [
    {
     "ename": "NameError",
     "evalue": "name 'model' is not defined",
     "output_type": "error",
     "traceback": [
      "\u001b[0;31m---------------------------------------------------------------------------\u001b[0m",
      "\u001b[0;31mNameError\u001b[0m                                 Traceback (most recent call last)",
      "Cell \u001b[0;32mIn[1], line 4\u001b[0m\n\u001b[1;32m      1\u001b[0m \u001b[38;5;28;01mimport\u001b[39;00m \u001b[38;5;21;01mtorch_directml\u001b[39;00m\n\u001b[1;32m      3\u001b[0m device \u001b[38;5;241m=\u001b[39m torch_directml\u001b[38;5;241m.\u001b[39mdevice()\n\u001b[0;32m----> 4\u001b[0m \u001b[43mmodel\u001b[49m\u001b[38;5;241m.\u001b[39mto(device)\n",
      "\u001b[0;31mNameError\u001b[0m: name 'model' is not defined"
     ]
    }
   ],
   "source": [
    "import torch_directml\n",
    "\n",
    "device = torch_directml.device()\n",
    "model.to(device)"
   ]
  },
  {
   "cell_type": "code",
   "execution_count": null,
   "id": "58c562be",
   "metadata": {},
   "outputs": [],
   "source": []
  }
 ],
 "metadata": {
  "kernelspec": {
   "display_name": "Python directml",
   "language": "python",
   "name": "directml"
  },
  "language_info": {
   "codemirror_mode": {
    "name": "ipython",
    "version": 3
   },
   "file_extension": ".py",
   "mimetype": "text/x-python",
   "name": "python",
   "nbconvert_exporter": "python",
   "pygments_lexer": "ipython3",
   "version": "3.10.14"
  }
 },
 "nbformat": 4,
 "nbformat_minor": 5
}
