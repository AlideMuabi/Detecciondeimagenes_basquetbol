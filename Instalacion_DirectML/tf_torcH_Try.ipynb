{
 "cells": [
  {
   "cell_type": "markdown",
   "id": "41779d33",
   "metadata": {},
   "source": [
    "# Tensorflow"
   ]
  },
  {
   "cell_type": "code",
   "execution_count": 1,
   "id": "a6f1f025",
   "metadata": {},
   "outputs": [
    {
     "name": "stderr",
     "output_type": "stream",
     "text": [
      "2025-04-10 11:14:54.504786: I tensorflow/core/platform/cpu_feature_guard.cc:193] This TensorFlow binary is optimized with oneAPI Deep Neural Network Library (oneDNN) to use the following CPU instructions in performance-critical operations:  AVX2 FMA\n",
      "To enable them in other operations, rebuild TensorFlow with the appropriate compiler flags.\n",
      "2025-04-10 11:14:56.060533: I tensorflow/c/logging.cc:34] Successfully opened dynamic library libdirectml.d6f03b303ac3c4f2eeb8ca631688c9757b361310.so\n",
      "2025-04-10 11:14:56.060609: I tensorflow/c/logging.cc:34] Successfully opened dynamic library libdxcore.so\n",
      "2025-04-10 11:14:56.065346: I tensorflow/c/logging.cc:34] Successfully opened dynamic library libd3d12.so\n",
      "Dropped Escape call with ulEscapeCode : 0x03007703\n",
      "Dropped Escape call with ulEscapeCode : 0x03007703\n",
      "2025-04-10 11:14:56.620228: I tensorflow/c/logging.cc:34] DirectML device enumeration: found 1 compatible adapters.\n",
      "2025-04-10 11:14:57.306358: I tensorflow/core/platform/cpu_feature_guard.cc:193] This TensorFlow binary is optimized with oneAPI Deep Neural Network Library (oneDNN) to use the following CPU instructions in performance-critical operations:  AVX2 FMA\n",
      "To enable them in other operations, rebuild TensorFlow with the appropriate compiler flags.\n",
      "2025-04-10 11:14:57.307438: I tensorflow/c/logging.cc:34] DirectML: creating device on adapter 0 (AMD Radeon RX 6600)\n",
      "Dropped Escape call with ulEscapeCode : 0x03007703\n",
      "2025-04-10 11:14:57.377380: I tensorflow/core/common_runtime/pluggable_device/pluggable_device_factory.cc:306] Could not identify NUMA node of platform GPU ID 0, defaulting to 0. Your kernel may not have been built with NUMA support.\n",
      "2025-04-10 11:14:57.377429: W tensorflow/core/common_runtime/pluggable_device/pluggable_device_bfc_allocator.cc:28] Overriding allow_growth setting because force_memory_growth was requested by the device.\n",
      "2025-04-10 11:14:57.377455: I tensorflow/core/common_runtime/pluggable_device/pluggable_device_factory.cc:272] Created TensorFlow device (/job:localhost/replica:0/task:0/device:GPU:0 with 13891 MB memory) -> physical PluggableDevice (device: 0, name: DML, pci bus id: <undefined>)\n"
     ]
    },
    {
     "name": "stdout",
     "output_type": "stream",
     "text": [
      "Epoch 1/5\n"
     ]
    },
    {
     "name": "stderr",
     "output_type": "stream",
     "text": [
      "2025-04-10 11:15:01.961283: I tensorflow/core/grappler/optimizers/custom_graph_optimizer_registry.cc:114] Plugin optimizer for device_type GPU is enabled.\n"
     ]
    },
    {
     "name": "stdout",
     "output_type": "stream",
     "text": [
      "  3/782 [..............................] - ETA: 29s - loss: 6.9640 - accuracy: 0.0156  "
     ]
    },
    {
     "name": "stderr",
     "output_type": "stream",
     "text": [
      "2025-04-10 11:15:02.834580: I tensorflow/core/common_runtime/pluggable_device/pluggable_device_factory.cc:306] Could not identify NUMA node of platform GPU ID 0, defaulting to 0. Your kernel may not have been built with NUMA support.\n",
      "2025-04-10 11:15:02.834639: I tensorflow/core/common_runtime/pluggable_device/pluggable_device_factory.cc:272] Created TensorFlow device (/job:localhost/replica:0/task:0/device:GPU:0 with 13891 MB memory) -> physical PluggableDevice (device: 0, name: DML, pci bus id: <undefined>)\n",
      "2025-04-10 11:15:02.840065: I tensorflow/core/common_runtime/pluggable_device/pluggable_device_factory.cc:306] Could not identify NUMA node of platform GPU ID 0, defaulting to 0. Your kernel may not have been built with NUMA support.\n",
      "2025-04-10 11:15:02.840119: I tensorflow/core/common_runtime/pluggable_device/pluggable_device_factory.cc:272] Created TensorFlow device (/job:localhost/replica:0/task:0/device:GPU:0 with 13891 MB memory) -> physical PluggableDevice (device: 0, name: DML, pci bus id: <undefined>)\n",
      "2025-04-10 11:15:02.842191: I tensorflow/core/common_runtime/pluggable_device/pluggable_device_factory.cc:306] Could not identify NUMA node of platform GPU ID 0, defaulting to 0. Your kernel may not have been built with NUMA support.\n",
      "2025-04-10 11:15:02.842233: I tensorflow/core/common_runtime/pluggable_device/pluggable_device_factory.cc:272] Created TensorFlow device (/job:localhost/replica:0/task:0/device:GPU:0 with 13891 MB memory) -> physical PluggableDevice (device: 0, name: DML, pci bus id: <undefined>)\n"
     ]
    },
    {
     "name": "stdout",
     "output_type": "stream",
     "text": [
      "782/782 [==============================] - 32s 36ms/step - loss: 4.5455 - accuracy: 0.0726\n",
      "Epoch 2/5\n",
      "782/782 [==============================] - 28s 36ms/step - loss: 4.4741 - accuracy: 0.0806\n",
      "Epoch 3/5\n",
      "782/782 [==============================] - 28s 36ms/step - loss: 4.0176 - accuracy: 0.1121\n",
      "Epoch 4/5\n",
      "782/782 [==============================] - 28s 36ms/step - loss: 3.8687 - accuracy: 0.1445\n",
      "Epoch 5/5\n",
      "782/782 [==============================] - 28s 36ms/step - loss: 3.6197 - accuracy: 0.1829\n"
     ]
    },
    {
     "data": {
      "text/plain": [
       "<keras.callbacks.History at 0x7f4cd02b5d20>"
      ]
     },
     "execution_count": 1,
     "metadata": {},
     "output_type": "execute_result"
    }
   ],
   "source": [
    "import tensorflow as tf\n",
    "\n",
    "cifar = tf.keras.datasets.cifar100\n",
    "(x_train, y_train), (x_test, y_test) = cifar.load_data()\n",
    "model = tf.keras.applications.ResNet50(\n",
    "    include_top=True,\n",
    "    weights=None,\n",
    "    input_shape=(32, 32, 3),\n",
    "    classes=100,\n",
    ")\n",
    "\n",
    "loss_fn = tf.keras.losses.SparseCategoricalCrossentropy(from_logits=False)\n",
    "model.compile(optimizer=\"adam\", loss=loss_fn, metrics=[\"accuracy\"])\n",
    "model.fit(x_train, y_train, epochs=5, batch_size=64)"
   ]
  },
  {
   "cell_type": "markdown",
   "id": "304fd2bf",
   "metadata": {},
   "source": [
    "# Pytorch"
   ]
  },
  {
   "cell_type": "code",
   "execution_count": 3,
   "id": "21daa8cb",
   "metadata": {},
   "outputs": [
    {
     "name": "stdout",
     "output_type": "stream",
     "text": [
      "privateuseone:0\n",
      "3\n"
     ]
    }
   ],
   "source": [
    "\n",
    "import torch\n",
    "import torch_directml\n",
    "\n",
    "dml = torch_directml.device()\n",
    "print(dml)\n",
    "\n",
    "tensor1 = torch.tensor([1]).to(dml)\n",
    "tensor2 = torch.tensor([2]).to(dml)\n",
    "\n",
    "dml_algebra = tensor1 + tensor2\n",
    "print(dml_algebra.item())"
   ]
  },
  {
   "cell_type": "markdown",
   "id": "8a9a8a27",
   "metadata": {},
   "source": [
    "# Pytorch Performance Comparison"
   ]
  },
  {
   "cell_type": "code",
   "execution_count": 4,
   "id": "acdc0afc",
   "metadata": {},
   "outputs": [
    {
     "name": "stdout",
     "output_type": "stream",
     "text": [
      "Time taken on DirectML (GPU): 0.2036 seconds\n",
      "DirectML Result Sum: 33337510.0000\n",
      "DirectML Result MM Shape: torch.Size([10000, 10000])\n",
      "DirectML Result Elementwise Shape: torch.Size([10000, 10000])\n",
      "Time taken on CPU: 4.7501 seconds\n",
      "CPU Result Sum: 33337508.0000\n",
      "CPU Result MM Shape: torch.Size([10000, 10000])\n",
      "CPU Result Elementwise Shape: torch.Size([10000, 10000])\n"
     ]
    }
   ],
   "source": [
    "import torch\n",
    "import torch_directml\n",
    "import time\n",
    "\n",
    "# Function to perform a complex operation\n",
    "def complex_operations(tensor):\n",
    "    # Perform a series of intensive operations\n",
    "    result_mm = torch.mm(tensor, tensor)\n",
    "    result_elementwise = tensor * tensor\n",
    "    result_sum = torch.sum(result_elementwise)\n",
    "    return result_mm, result_elementwise, result_sum\n",
    "\n",
    "# Check if DirectML is available\n",
    "dml = torch_directml.device()\n",
    "device = dml if dml else 'cpu'\n",
    "\n",
    "# Define a very large size for the matrices\n",
    "N = 10000  # Adjust this size based on your system's capabilities\n",
    "\n",
    "# Create random tensors\n",
    "tensor1 = torch.rand(N, N, device=device)\n",
    "tensor2 = torch.rand(N, N, device=device)\n",
    "\n",
    "# Time the DirectML operation if available\n",
    "if device != 'cpu':\n",
    "    start_time = time.time()\n",
    "    \n",
    "    # Perform complex operations on DirectML\n",
    "    result_mm_dml, result_elementwise_dml, result_sum_dml = complex_operations(tensor1)\n",
    "    \n",
    "    dml_time = time.time() - start_time\n",
    "else:\n",
    "    dml_time = None\n",
    "\n",
    "# Move tensors to CPU for CPU operation\n",
    "tensor1_cpu = tensor1.cpu()\n",
    "tensor2_cpu = tensor2.cpu()\n",
    "\n",
    "# Time the CPU operation\n",
    "start_time = time.time()\n",
    "\n",
    "# Perform the same complex operations on CPU\n",
    "result_mm_cpu, result_elementwise_cpu, result_sum_cpu = complex_operations(tensor1_cpu)\n",
    "\n",
    "cpu_time = time.time() - start_time\n",
    "\n",
    "# Print the results\n",
    "if dml_time is not None:\n",
    "    print(f\"Time taken on DirectML (GPU): {dml_time:.4f} seconds\")\n",
    "    print(f\"DirectML Result Sum: {result_sum_dml.item():.4f}\")\n",
    "    # To avoid overwhelming the output, only show the shape of the results\n",
    "    print(f\"DirectML Result MM Shape: {result_mm_dml.shape}\")\n",
    "    print(f\"DirectML Result Elementwise Shape: {result_elementwise_dml.shape}\")\n",
    "\n",
    "print(f\"Time taken on CPU: {cpu_time:.4f} seconds\")\n",
    "print(f\"CPU Result Sum: {result_sum_cpu.item():.4f}\")\n",
    "# To avoid overwhelming the output, only show the shape of the results\n",
    "print(f\"CPU Result MM Shape: {result_mm_cpu.shape}\")\n",
    "print(f\"CPU Result Elementwise Shape: {result_elementwise_cpu.shape}\")"
   ]
  },
  {
   "cell_type": "code",
   "execution_count": null,
   "id": "717238c8",
   "metadata": {},
   "outputs": [],
   "source": []
  }
 ],
 "metadata": {
  "kernelspec": {
   "display_name": "Python directml",
   "language": "python",
   "name": "directml"
  },
  "language_info": {
   "codemirror_mode": {
    "name": "ipython",
    "version": 3
   },
   "file_extension": ".py",
   "mimetype": "text/x-python",
   "name": "python",
   "nbconvert_exporter": "python",
   "pygments_lexer": "ipython3",
   "version": "3.10.14"
  }
 },
 "nbformat": 4,
 "nbformat_minor": 5
}
