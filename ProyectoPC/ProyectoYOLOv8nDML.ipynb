{
 "cells": [
  {
   "cell_type": "markdown",
   "id": "cac5b9b8-0d6d-4d2a-947c-e6d0578ec3f0",
   "metadata": {},
   "source": [
    "# Basketball YOLOv8 using DirectML\n",
    "Dataset obtained in:\n",
    "\n",
    "https://universe.roboflow.com/roboflow-universe-projects/basketball-players-fy4c2/dataset/25\n",
    "\n",
    "Version YOLOv8, not modified:\n",
    "\n",
    "95% Train set (1140 img)\n",
    "\n",
    "3% Valid set (32 img)\n",
    "\n",
    "2% Train set (24 img)"
   ]
  },
  {
   "cell_type": "markdown",
   "id": "972ed6f0-f7b3-465e-9ae9-807177d49486",
   "metadata": {},
   "source": [
    "## Librerías iniciales"
   ]
  },
  {
   "cell_type": "code",
   "execution_count": null,
   "id": "7e408ae4-3728-4504-8707-b3a73484c6a3",
   "metadata": {},
   "outputs": [],
   "source": [
    "#Ultralytics update\n",
    "#!pip install -U ultralytics"
   ]
  },
  {
   "cell_type": "code",
   "execution_count": 1,
   "id": "cd15eb63-a8d0-4956-8bb6-e102236cce51",
   "metadata": {},
   "outputs": [],
   "source": [
    "import os\n",
    "import random\n",
    "import pandas as pd\n",
    "import matplotlib.pyplot as plt\n",
    "from PIL import Image\n",
    "import cv2\n",
    "from ultralytics import YOLO\n",
    "from IPython.display import Video\n",
    "import numpy as np  \n",
    "import seaborn as sns\n",
    "sns.set(style='darkgrid')\n",
    "import pathlib\n",
    "import glob\n",
    "from tqdm.notebook import trange, tqdm\n",
    "import warnings\n",
    "warnings.filterwarnings('ignore')"
   ]
  },
  {
   "cell_type": "code",
   "execution_count": 2,
   "id": "8618b9b0",
   "metadata": {},
   "outputs": [],
   "source": [
    "#To get current PATH\n",
    "#os.getcwd()"
   ]
  },
  {
   "cell_type": "markdown",
   "id": "d01de870-5ee4-43b3-8226-1099b773fd77",
   "metadata": {},
   "source": [
    "## Plotting random train samples"
   ]
  },
  {
   "cell_type": "code",
   "execution_count": null,
   "id": "ed57bade-d723-4f2c-9809-a09d1571a958",
   "metadata": {},
   "outputs": [],
   "source": [
    "#Image directory for train samples\n",
    "Image_dir = '/mnt/c/Users/alide/IA/Proyecto/BasketballYv8/train/images'\n",
    "\n",
    "#To show samples\n",
    "num_samples = 9\n",
    "image_files = os.listdir(Image_dir)\n",
    "\n",
    "# Randomly select num_samples images for plotting\n",
    "rand_images = random.sample(image_files, num_samples)\n",
    "\n",
    "fig, axes = plt.subplots(3, 3, figsize=(11, 11))\n",
    "\n",
    "for i in range(num_samples):\n",
    "    image = rand_images[i]\n",
    "    ax = axes[i // 3, i % 3]\n",
    "    ax.imshow(plt.imread(os.path.join(Image_dir, image)))\n",
    "    ax.set_title(f'Image {i+1}')\n",
    "    ax.axis('off')\n",
    "\n",
    "plt.tight_layout()\n",
    "plt.show()"
   ]
  },
  {
   "cell_type": "markdown",
   "id": "d953e43c-84f5-4d2b-b23d-2befd8ec5407",
   "metadata": {},
   "source": [
    "## YOLOv8 Training"
   ]
  },
  {
   "cell_type": "code",
   "execution_count": null,
   "id": "e8a460d0-2d07-4704-8fa5-0b91b60a9022",
   "metadata": {},
   "outputs": [],
   "source": [
    "# Use a pretrained YOLOv8n model\n",
    "model = YOLO(\"yolov8n.pt\") "
   ]
  },
  {
   "cell_type": "code",
   "execution_count": null,
   "id": "8aea6077-3296-47c6-9fe4-1f3d2c271ff8",
   "metadata": {},
   "outputs": [],
   "source": [
    "# Use the model to detect object\n",
    "image = \"/mnt/c/Users/alide/IA/Proyecto/BasketballYv8/train/images/youtube-1_jpg.rf.771c14fa7ff8ea51f5f1be48cba8e331.jpg\"\n",
    "result_predict = model.predict(source = image, imgsz=(640))\n",
    "\n",
    "# show results\n",
    "plot = result_predict[0].plot()\n",
    "plot = cv2.cvtColor(plot, cv2.COLOR_BGR2RGB)\n",
    "display(Image.fromarray(plot))"
   ]
  },
  {
   "cell_type": "code",
   "execution_count": null,
   "id": "9e70463c-a9c5-458e-94e9-bc30431f69c1",
   "metadata": {},
   "outputs": [],
   "source": [
    "# Build from YAML and transfer weights\n",
    "Training_model = YOLO('yolov8n.pt')"
   ]
  },
  {
   "cell_type": "code",
   "execution_count": null,
   "id": "158faa0b-cd77-4701-89db-460d43191ef7",
   "metadata": {},
   "outputs": [],
   "source": [
    "#Training\n",
    "Result_Training_model = Training_model.train(data=\"/mnt/c/Users/alide/IA/Proyecto/BasketballYv8/data.yaml\", device=0\n",
    "                                             epochs = 1, batch = 4, optimizer = 'auto')"
   ]
  },
  {
   "cell_type": "markdown",
   "id": "0b244015-06a0-4f36-b615-8291f28ba1d9",
   "metadata": {},
   "source": [
    "## Post-training Results"
   ]
  },
  {
   "cell_type": "code",
   "execution_count": null,
   "id": "c42b5b24-6a23-4f60-921d-b6f8f79ec1d2",
   "metadata": {},
   "outputs": [],
   "source": [
    "#Function for showing results\n",
    "def display_images(post_training_files_path, image_files):\n",
    "\n",
    "    for image_file in image_files:\n",
    "        image_path = os.path.join(post_training_files_path, image_file)\n",
    "        img = cv2.imread(image_path)\n",
    "        if img is None:\n",
    "            print(f\"❌ Could not read image: {image_path}\")\n",
    "            continue\n",
    "        \n",
    "        img = cv2.cvtColor(img, cv2.COLOR_BGR2RGB)\n",
    "        \n",
    "        plt.figure(figsize=(10, 10), dpi=120)\n",
    "        plt.imshow(img)\n",
    "        plt.axis('off')\n",
    "        plt.show()\n",
    "\n",
    "# List of image files to display\n",
    "image_files = [\n",
    "    'confusion_matrix_normalized.png',\n",
    "    'F1_curve.png',\n",
    "    'P_curve.png',\n",
    "    'R_curve.png',\n",
    "    'PR_curve.png',\n",
    "    'results.png'\n",
    "]\n",
    "\n",
    "# Path to the directory containing the images\n",
    "post_training_files_path = '/home/alide/Notebooks/ProyectoPC/runs/detect/train'\n",
    "\n",
    "# Display the images\n",
    "display_images(post_training_files_path, image_files)"
   ]
  },
  {
   "cell_type": "markdown",
   "id": "a781b799-85b3-4513-b4b6-5d8f5e88d035",
   "metadata": {},
   "source": [
    "## Best performing model and example"
   ]
  },
  {
   "cell_type": "code",
   "execution_count": null,
   "id": "48688daa-2672-4b3e-bb87-1317836d8214",
   "metadata": {},
   "outputs": [],
   "source": [
    "# Loading the best performing model\n",
    "Final_model = YOLO('/home/alide/Notebooks/ProyectoPC/runs/detect/train/weights/best.pt')\n",
    "\n",
    "# Evaluating the model on the validset\n",
    "metrics = Final_model.val(split = 'val')\n",
    "\n",
    "# final results \n",
    "print(\"precision(B): \", metrics.results_dict[\"metrics/precision(B)\"])\n",
    "print(\"metrics/recall(B): \", metrics.results_dict[\"metrics/recall(B)\"])\n",
    "print(\"metrics/mAP50(B): \", metrics.results_dict[\"metrics/mAP50(B)\"])\n",
    "print(\"metrics/mAP50-95(B): \", metrics.results_dict[\"metrics/mAP50-95(B)\"])"
   ]
  },
  {
   "cell_type": "markdown",
   "id": "4db1f6de-2859-466f-ba24-79de197d1478",
   "metadata": {},
   "source": [
    "### Exporting the model"
   ]
  },
  {
   "cell_type": "code",
   "execution_count": null,
   "id": "4a49eb34-0d05-4bb6-9cf2-1e97aad20f93",
   "metadata": {
    "scrolled": true
   },
   "outputs": [],
   "source": [
    "#Install dependencies\n",
    "!pip install onnx\n",
    "!pip install onnxruntime"
   ]
  },
  {
   "cell_type": "code",
   "execution_count": null,
   "id": "8421f4d1-ae10-4957-b068-f68ce479e721",
   "metadata": {},
   "outputs": [],
   "source": [
    "#Export the model\n",
    "Final_model.export(format='onnx')"
   ]
  },
  {
   "cell_type": "markdown",
   "id": "6eb553b7-9c5c-488b-8caf-2978aef85a51",
   "metadata": {},
   "source": [
    "### Example using Final_Model with the same img used with the pre trained model"
   ]
  },
  {
   "cell_type": "code",
   "execution_count": null,
   "id": "7877ddfe-53a5-40de-ae25-65aef80b61c6",
   "metadata": {},
   "outputs": [],
   "source": [
    "image = \"/mnt/c/Users/alide/IA/Proyecto/BasketballYv8/train/images/youtube-1_jpg.rf.771c14fa7ff8ea51f5f1be48cba8e331.jpg\"\n",
    "result_predict = Final_model.predict(source = image, imgsz=(640))\n",
    "\n",
    "# show results\n",
    "plot = result_predict[0].plot()\n",
    "plot = cv2.cvtColor(plot, cv2.COLOR_BGR2RGB)\n",
    "display(Image.fromarray(plot))"
   ]
  },
  {
   "cell_type": "markdown",
   "id": "aeb3c9ed-3ffd-4112-b96c-8cde94652a59",
   "metadata": {},
   "source": [
    "## FInal Model architecture"
   ]
  },
  {
   "cell_type": "code",
   "execution_count": null,
   "id": "e521a995-5196-490b-92b3-5ee19841624d",
   "metadata": {},
   "outputs": [],
   "source": [
    "Final_model"
   ]
  }
 ],
 "metadata": {
  "kernelspec": {
   "display_name": "Python directml",
   "language": "python",
   "name": "directml"
  },
  "language_info": {
   "codemirror_mode": {
    "name": "ipython",
    "version": 3
   },
   "file_extension": ".py",
   "mimetype": "text/x-python",
   "name": "python",
   "nbconvert_exporter": "python",
   "pygments_lexer": "ipython3",
   "version": "3.10.14"
  }
 },
 "nbformat": 4,
 "nbformat_minor": 5
}
